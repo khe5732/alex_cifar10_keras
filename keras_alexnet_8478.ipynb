{
 "cells": [
  {
   "cell_type": "code",
   "execution_count": 2,
   "metadata": {
    "id": "LvKJcjqifZ72"
   },
   "outputs": [],
   "source": [
    "import os\n",
    "import numpy as np\n",
    "import matplotlib.pyplot as plt\n",
    "%matplotlib inline\n",
    "\n",
    "np.random.seed(4)"
   ]
  },
  {
   "cell_type": "code",
   "execution_count": 3,
   "metadata": {
    "colab": {
     "base_uri": "https://localhost:8080/",
     "height": 485
    },
    "id": "ZPKOMSHYfeeb",
    "outputId": "b4723781-cb52-48cf-9d91-2298edf7f739"
   },
   "outputs": [
    {
     "name": "stdout",
     "output_type": "stream",
     "text": [
      "(50000, 32, 32, 3) (50000, 1)\n",
      "label :  [6]\n",
      "(50000, 32, 32, 3) (50000, 10)\n"
     ]
    },
    {
     "data": {
      "image/png": "[encoded data removed]",
      "text/plain": [
       "<Figure size 640x480 with 1 Axes>"
      ]
     },
     "metadata": {},
     "output_type": "display_data"
    }
   ],
   "source": [
    "# dataset CIFAR 10\n",
    "import tensorflow.keras.utils as utils\n",
    "from tensorflow.keras import datasets\n",
    "\n",
    "# Dataset Load\n",
    "(X_train, Y_train), (X_test, Y_test) = datasets.cifar10.load_data()\n",
    "\n",
    "# Dataset Confirm\n",
    "print(X_train.shape, Y_train.shape)\n",
    "print('label : ',Y_train[0])\n",
    "plt.imshow(X_train[0])\n",
    "\n",
    "# Dataset Preprocessing\n",
    "X_train = X_train/255.0\n",
    "X_test = X_test/255.0\n",
    "Y_train = utils.to_categorical(Y_train)\n",
    "Y_test = utils.to_categorical(Y_test)\n",
    "\n",
    "print(X_train.shape, Y_train.shape)"
   ]
  },
  {
   "cell_type": "code",
   "execution_count": 4,
   "metadata": {
    "id": "CMX_GBUMfhRH"
   },
   "outputs": [],
   "source": [
    "# library import for modeling\n",
    "from tensorflow.keras.models import Sequential, Model\n",
    "import tensorflow as tf\n",
    "from tensorflow.keras.layers import Input, Dense, Activation,Lambda\n",
    "from tensorflow.keras.layers import Flatten, BatchNormalization, Dropout, ReLU\n",
    "from tensorflow.keras.layers import Conv2D, MaxPooling2D"
   ]
  },
  {
   "cell_type": "code",
   "execution_count": 5,
   "metadata": {
    "colab": {
     "base_uri": "https://localhost:8080/"
    },
    "id": "dC94S_i2fkSg",
    "outputId": "9c792d66-a641-4863-b001-9c2738f2e42a"
   },
   "outputs": [
    {
     "name": "stdout",
     "output_type": "stream",
     "text": [
      "(32, 32, 3)\n",
      "10\n"
     ]
    }
   ],
   "source": [
    "n_in = X_train.shape[1:]\n",
    "n_out = Y_train.shape[-1]\n",
    "print(n_in)\n",
    "print(n_out)"
   ]
  },
  {
   "cell_type": "code",
   "execution_count": 6,
   "metadata": {
    "colab": {
     "base_uri": "https://localhost:8080/"
    },
    "id": "bSjzffuDwbI2",
    "outputId": "d67752ad-6f15-4e18-d8e2-10555ff249cf"
   },
   "outputs": [
    {
     "name": "stdout",
     "output_type": "stream",
     "text": [
      "Model: \"sequential\"\n",
      "_________________________________________________________________\n",
      " Layer (type)                Output Shape              Param #   \n",
      "=================================================================\n",
      " conv2d (Conv2D)             (None, 32, 32, 64)        1792      \n",
      "                                                                 \n",
      " batch_normalization (BatchN  (None, 32, 32, 64)       256       \n",
      " ormalization)                                                   \n",
      "                                                                 \n",
      " max_pooling2d (MaxPooling2D  (None, 16, 16, 64)       0         \n",
      " )                                                               \n",
      "                                                                 \n",
      " conv2d_1 (Conv2D)           (None, 16, 16, 192)       110784    \n",
      "                                                                 \n",
      " batch_normalization_1 (Batc  (None, 16, 16, 192)      768       \n",
      " hNormalization)                                                 \n",
      "                                                                 \n",
      " max_pooling2d_1 (MaxPooling  (None, 8, 8, 192)        0         \n",
      " 2D)                                                             \n",
      "                                                                 \n",
      " conv2d_2 (Conv2D)           (None, 8, 8, 384)         663936    \n",
      "                                                                 \n",
      " conv2d_3 (Conv2D)           (None, 8, 8, 384)         1327488   \n",
      "                                                                 \n",
      " conv2d_4 (Conv2D)           (None, 8, 8, 256)         884992    \n",
      "                                                                 \n",
      " max_pooling2d_2 (MaxPooling  (None, 4, 4, 256)        0         \n",
      " 2D)                                                             \n",
      "                                                                 \n",
      " flatten (Flatten)           (None, 4096)              0         \n",
      "                                                                 \n",
      " dense (Dense)               (None, 4096)              16781312  \n",
      "                                                                 \n",
      " dropout (Dropout)           (None, 4096)              0         \n",
      "                                                                 \n",
      " dense_1 (Dense)             (None, 4096)              16781312  \n",
      "                                                                 \n",
      " dropout_1 (Dropout)         (None, 4096)              0         \n",
      "                                                                 \n",
      " dense_2 (Dense)             (None, 10)                40970     \n",
      "                                                                 \n",
      "=================================================================\n",
      "Total params: 36,593,610\n",
      "Trainable params: 36,593,098\n",
      "Non-trainable params: 512\n",
      "_________________________________________________________________\n"
     ]
    }
   ],
   "source": [
    "# AlexNet model structure check\n",
    "# To fit the code to cifar-10, chaged the kernel or pool size\n",
    "# To improve accuracy, choose batch nomalizatoin that has better performance than local response normalization\n",
    "\n",
    "model = Sequential()\n",
    "\n",
    "# conv 1 layer\n",
    "model.add(Conv2D(64, kernel_size=(3, 3), padding='same', strides=(1, 1), activation='relu', input_shape=(n_in)))\n",
    "# model.add(Lambda(tf.nn.local_response_normalization, arguments={'depth_radius': 2, 'bias': 1.0, 'alpha': 0.0001, 'beta': 0.75}))\n",
    "model.add(BatchNormalization())\n",
    "model.add(MaxPooling2D(pool_size=(3, 3), strides=(2, 2), padding='same'))\n",
    "\n",
    "# con 2 valid\n",
    "model.add(Conv2D(192, kernel_size=(3, 3),padding='same', strides=(1, 1), activation='relu'))\n",
    "# model.add(Lambda(tf.nn.local_response_normalization, arguments={'dep/th_radius': 2, 'bias': 1.0, 'alpha': 0.0001, 'beta': 0.75}))\n",
    "model.add(BatchNormalization())\n",
    "model.add(MaxPooling2D(pool_size=(3, 3), strides=(2, 2), padding='same'))\n",
    "\n",
    "# conv 3 layer\n",
    "model.add(Conv2D(384, kernel_size=(3, 3),padding='same', strides=(1, 1), activation='relu'))\n",
    "\n",
    "# conv 4 layer\n",
    "model.add(Conv2D(384, kernel_size=(3, 3),padding='same', strides=(1, 1), activation='relu'))\n",
    "\n",
    "# conv 5 layer\n",
    "model.add(Conv2D(256, kernel_size=(3, 3),padding='same', strides=(1, 1), activation='relu'))\n",
    "model.add(MaxPooling2D(pool_size=(3, 3), strides=(2, 2), padding='same'))\n",
    "\n",
    "model.add(Flatten())\n",
    "\n",
    "# fc 1 layer\n",
    "model.add(Dense(4096, activation='relu'))\n",
    "model.add(Dropout(0.5))\n",
    "\n",
    "# fc 2 layer\n",
    "model.add(Dense(4096, activation='relu'))\n",
    "model.add(Dropout(0.5))\n",
    "\n",
    "# fc 3 layer\n",
    "model.add(Dense(n_out, activation='softmax'))\n",
    "model.summary()"
   ]
  },
  {
   "cell_type": "code",
   "execution_count": 7,
   "metadata": {
    "id": "A0_oTUDMhgL8"
   },
   "outputs": [],
   "source": [
    "from tensorflow.keras.optimizers import Adam\n",
    "\n",
    "# optimizer = Adam(learning_rate=1e-6,weight_decay=0.3)\n",
    "\n",
    "optimizer = Adam(learning_rate=3e-5,weight_decay=0.3, beta_1 = 0.95, beta_2 = 0.99, epsilon=1e-8)\n",
    "\n",
    "model.compile(loss='categorical_crossentropy', optimizer=optimizer, metrics=['accuracy'])"
   ]
  },
  {
   "cell_type": "code",
   "execution_count": 8,
   "metadata": {
    "id": "OALqYmGG55dC"
   },
   "outputs": [],
   "source": [
    "from tensorflow.keras.preprocessing.image import ImageDataGenerator\n",
    "\n",
    "# # define the data generator with the desired transformations\n",
    "# datagen = ImageDataGenerator(\n",
    "#     rotation_range=20, # rotate the image up to 20 degrees\n",
    "#     width_shift_range=0.1, # shift the image horizontally up to 10% of the width\n",
    "#     height_shift_range=0.1, # shift the image vertically up to 10% of the height\n",
    "#     horizontal_flip=True, # flip the image horizontally\n",
    "#     zoom_range=0.1 # zoom in or out up to 10%\n",
    "# )\n",
    "\n",
    "\n",
    "datagen = ImageDataGenerator(\n",
    "    rotation_range=20,\n",
    "    width_shift_range=0.1,\n",
    "    height_shift_range=0.1,\n",
    "    shear_range=0.2,\n",
    "    zoom_range=0.2,\n",
    "    horizontal_flip=True,\n",
    "    fill_mode='nearest'\n",
    ")\n",
    "\n",
    "\n",
    "# fit the data generator to your training data\n",
    "datagen.fit(X_train)"
   ]
  },
  {
   "cell_type": "code",
   "execution_count": 9,
   "metadata": {
    "colab": {
     "base_uri": "https://localhost:8080/"
    },
    "id": "qQ4WZjw8qEfM",
    "outputId": "388bdeaf-3bfb-407a-a485-9eae2a9be45f"
   },
   "outputs": [
    {
     "name": "stdout",
     "output_type": "stream",
     "text": [
      "Epoch 1/300\n",
      "313/313 [==============================] - 35s 89ms/step - loss: 1.7476 - accuracy: 0.3613 - val_loss: 2.2223 - val_accuracy: 0.1663\n",
      "Epoch 2/300\n",
      "313/313 [==============================] - 27s 88ms/step - loss: 1.3838 - accuracy: 0.4976 - val_loss: 1.2078 - val_accuracy: 0.5863\n",
      "Epoch 3/300\n",
      "313/313 [==============================] - 26s 85ms/step - loss: 1.2429 - accuracy: 0.5515 - val_loss: 1.1400 - val_accuracy: 0.5997\n",
      "Epoch 4/300\n",
      "313/313 [==============================] - 26s 84ms/step - loss: 1.1436 - accuracy: 0.5913 - val_loss: 1.1289 - val_accuracy: 0.6036\n",
      "Epoch 5/300\n",
      "313/313 [==============================] - 27s 86ms/step - loss: 1.0705 - accuracy: 0.6171 - val_loss: 0.9348 - val_accuracy: 0.6694\n",
      "Epoch 6/300\n",
      "313/313 [==============================] - 26s 83ms/step - loss: 1.0151 - accuracy: 0.6381 - val_loss: 0.9351 - val_accuracy: 0.6739\n",
      "Epoch 7/300\n",
      "313/313 [==============================] - 27s 86ms/step - loss: 0.9748 - accuracy: 0.6568 - val_loss: 0.9386 - val_accuracy: 0.6700\n",
      "Epoch 8/300\n",
      "313/313 [==============================] - 27s 87ms/step - loss: 0.9352 - accuracy: 0.6683 - val_loss: 0.8644 - val_accuracy: 0.6990\n",
      "Epoch 9/300\n",
      "313/313 [==============================] - 26s 83ms/step - loss: 0.8913 - accuracy: 0.6852 - val_loss: 0.9117 - val_accuracy: 0.6879\n",
      "Epoch 10/300\n",
      "313/313 [==============================] - 27s 88ms/step - loss: 0.8700 - accuracy: 0.6913 - val_loss: 0.8270 - val_accuracy: 0.7102\n",
      "Epoch 11/300\n",
      "313/313 [==============================] - 26s 84ms/step - loss: 0.8310 - accuracy: 0.7074 - val_loss: 0.8213 - val_accuracy: 0.7227\n",
      "Epoch 12/300\n",
      "313/313 [==============================] - 26s 84ms/step - loss: 0.8113 - accuracy: 0.7145 - val_loss: 0.7240 - val_accuracy: 0.7473\n",
      "Epoch 13/300\n",
      "313/313 [==============================] - 26s 83ms/step - loss: 0.7899 - accuracy: 0.7233 - val_loss: 0.7507 - val_accuracy: 0.7404\n",
      "Epoch 14/300\n",
      "313/313 [==============================] - 26s 84ms/step - loss: 0.7631 - accuracy: 0.7296 - val_loss: 0.7700 - val_accuracy: 0.7367\n",
      "Epoch 15/300\n",
      "313/313 [==============================] - 26s 83ms/step - loss: 0.7413 - accuracy: 0.7371 - val_loss: 0.7329 - val_accuracy: 0.7475\n",
      "Epoch 16/300\n",
      "313/313 [==============================] - 26s 84ms/step - loss: 0.7170 - accuracy: 0.7478 - val_loss: 0.6943 - val_accuracy: 0.7620\n",
      "Epoch 17/300\n",
      "313/313 [==============================] - 26s 83ms/step - loss: 0.6997 - accuracy: 0.7533 - val_loss: 0.7604 - val_accuracy: 0.7426\n",
      "Epoch 18/300\n",
      "313/313 [==============================] - 26s 83ms/step - loss: 0.6780 - accuracy: 0.7613 - val_loss: 0.6858 - val_accuracy: 0.7644\n",
      "Epoch 19/300\n",
      "313/313 [==============================] - 26s 83ms/step - loss: 0.6624 - accuracy: 0.7658 - val_loss: 0.6929 - val_accuracy: 0.7640\n",
      "Epoch 20/300\n",
      "313/313 [==============================] - 26s 83ms/step - loss: 0.6473 - accuracy: 0.7702 - val_loss: 0.7206 - val_accuracy: 0.7588\n",
      "Epoch 21/300\n",
      "313/313 [==============================] - 27s 87ms/step - loss: 0.6349 - accuracy: 0.7791 - val_loss: 0.7174 - val_accuracy: 0.7580\n",
      "Epoch 22/300\n",
      "313/313 [==============================] - 27s 87ms/step - loss: 0.6231 - accuracy: 0.7796 - val_loss: 0.6841 - val_accuracy: 0.7689\n",
      "Epoch 23/300\n",
      "313/313 [==============================] - 27s 87ms/step - loss: 0.6049 - accuracy: 0.7883 - val_loss: 0.7156 - val_accuracy: 0.7644\n",
      "Epoch 24/300\n",
      "313/313 [==============================] - 26s 83ms/step - loss: 0.5930 - accuracy: 0.7888 - val_loss: 0.7707 - val_accuracy: 0.7475\n",
      "Epoch 25/300\n",
      "313/313 [==============================] - 28s 88ms/step - loss: 0.5754 - accuracy: 0.8007 - val_loss: 0.6556 - val_accuracy: 0.7787\n",
      "Epoch 26/300\n",
      "313/313 [==============================] - 27s 86ms/step - loss: 0.5611 - accuracy: 0.8015 - val_loss: 0.6349 - val_accuracy: 0.7895\n",
      "Epoch 27/300\n",
      "313/313 [==============================] - 26s 84ms/step - loss: 0.5543 - accuracy: 0.8051 - val_loss: 0.6063 - val_accuracy: 0.7929\n",
      "Epoch 28/300\n",
      "313/313 [==============================] - 26s 84ms/step - loss: 0.5367 - accuracy: 0.8114 - val_loss: 0.6533 - val_accuracy: 0.7873\n",
      "Epoch 29/300\n",
      "313/313 [==============================] - 27s 88ms/step - loss: 0.5325 - accuracy: 0.8156 - val_loss: 0.6290 - val_accuracy: 0.7910\n",
      "Epoch 30/300\n",
      "313/313 [==============================] - 26s 84ms/step - loss: 0.5188 - accuracy: 0.8160 - val_loss: 0.7378 - val_accuracy: 0.7737\n",
      "Epoch 31/300\n",
      "313/313 [==============================] - 28s 88ms/step - loss: 0.5065 - accuracy: 0.8213 - val_loss: 0.5855 - val_accuracy: 0.8026\n",
      "Epoch 32/300\n",
      "313/313 [==============================] - 26s 84ms/step - loss: 0.4954 - accuracy: 0.8273 - val_loss: 0.6356 - val_accuracy: 0.7939\n",
      "Epoch 33/300\n",
      "313/313 [==============================] - 27s 88ms/step - loss: 0.4837 - accuracy: 0.8306 - val_loss: 0.5978 - val_accuracy: 0.8069\n",
      "Epoch 34/300\n",
      "313/313 [==============================] - 27s 87ms/step - loss: 0.4783 - accuracy: 0.8306 - val_loss: 0.6273 - val_accuracy: 0.7958\n",
      "Epoch 35/300\n",
      "313/313 [==============================] - 27s 87ms/step - loss: 0.4648 - accuracy: 0.8366 - val_loss: 0.5818 - val_accuracy: 0.8072\n",
      "Epoch 36/300\n",
      "313/313 [==============================] - 27s 87ms/step - loss: 0.4602 - accuracy: 0.8389 - val_loss: 0.6502 - val_accuracy: 0.7959\n",
      "Epoch 37/300\n",
      "313/313 [==============================] - 27s 86ms/step - loss: 0.4429 - accuracy: 0.8454 - val_loss: 0.5850 - val_accuracy: 0.8053\n",
      "Epoch 38/300\n",
      "313/313 [==============================] - 27s 87ms/step - loss: 0.4398 - accuracy: 0.8447 - val_loss: 0.6522 - val_accuracy: 0.7907\n",
      "Epoch 39/300\n",
      "313/313 [==============================] - 27s 88ms/step - loss: 0.4353 - accuracy: 0.8466 - val_loss: 0.6696 - val_accuracy: 0.7877\n",
      "Epoch 40/300\n",
      "313/313 [==============================] - 27s 86ms/step - loss: 0.4204 - accuracy: 0.8538 - val_loss: 0.5981 - val_accuracy: 0.8094\n",
      "Epoch 41/300\n",
      "313/313 [==============================] - 26s 83ms/step - loss: 0.4118 - accuracy: 0.8548 - val_loss: 0.6338 - val_accuracy: 0.8040\n",
      "Epoch 42/300\n",
      "313/313 [==============================] - 27s 87ms/step - loss: 0.4088 - accuracy: 0.8558 - val_loss: 0.6368 - val_accuracy: 0.8033\n",
      "Epoch 43/300\n",
      "313/313 [==============================] - 26s 84ms/step - loss: 0.3965 - accuracy: 0.8597 - val_loss: 0.5642 - val_accuracy: 0.8148\n",
      "Epoch 44/300\n",
      "313/313 [==============================] - 28s 88ms/step - loss: 0.3890 - accuracy: 0.8634 - val_loss: 0.6539 - val_accuracy: 0.7999\n",
      "Epoch 45/300\n",
      "313/313 [==============================] - 28s 88ms/step - loss: 0.3860 - accuracy: 0.8644 - val_loss: 0.5667 - val_accuracy: 0.8208\n",
      "Epoch 46/300\n",
      "313/313 [==============================] - 26s 83ms/step - loss: 0.3775 - accuracy: 0.8667 - val_loss: 0.5960 - val_accuracy: 0.8146\n",
      "Epoch 47/300\n",
      "313/313 [==============================] - 26s 83ms/step - loss: 0.3661 - accuracy: 0.8711 - val_loss: 0.5834 - val_accuracy: 0.8182\n",
      "Epoch 48/300\n",
      "313/313 [==============================] - 26s 83ms/step - loss: 0.3607 - accuracy: 0.8740 - val_loss: 0.6216 - val_accuracy: 0.8124\n",
      "Epoch 49/300\n",
      "313/313 [==============================] - 26s 82ms/step - loss: 0.3539 - accuracy: 0.8756 - val_loss: 0.5913 - val_accuracy: 0.8155\n",
      "Epoch 50/300\n",
      "313/313 [==============================] - 26s 83ms/step - loss: 0.3493 - accuracy: 0.8770 - val_loss: 0.5945 - val_accuracy: 0.8195\n",
      "Epoch 51/300\n",
      "313/313 [==============================] - 27s 86ms/step - loss: 0.3371 - accuracy: 0.8809 - val_loss: 0.6068 - val_accuracy: 0.8142\n",
      "Epoch 52/300\n",
      "313/313 [==============================] - 26s 83ms/step - loss: 0.3350 - accuracy: 0.8823 - val_loss: 0.5555 - val_accuracy: 0.8280\n",
      "Epoch 53/300\n",
      "313/313 [==============================] - 26s 82ms/step - loss: 0.3324 - accuracy: 0.8820 - val_loss: 0.6188 - val_accuracy: 0.8138\n",
      "Epoch 54/300\n",
      "313/313 [==============================] - 27s 87ms/step - loss: 0.3200 - accuracy: 0.8853 - val_loss: 0.6078 - val_accuracy: 0.8195\n",
      "Epoch 55/300\n",
      "313/313 [==============================] - 26s 83ms/step - loss: 0.3156 - accuracy: 0.8898 - val_loss: 0.5700 - val_accuracy: 0.8273\n",
      "Epoch 56/300\n",
      "313/313 [==============================] - 27s 86ms/step - loss: 0.3099 - accuracy: 0.8903 - val_loss: 0.6675 - val_accuracy: 0.8071\n",
      "Epoch 57/300\n",
      "313/313 [==============================] - 27s 86ms/step - loss: 0.3065 - accuracy: 0.8913 - val_loss: 0.6228 - val_accuracy: 0.8182\n",
      "Epoch 58/300\n",
      "313/313 [==============================] - 27s 86ms/step - loss: 0.2981 - accuracy: 0.8952 - val_loss: 0.5432 - val_accuracy: 0.8350\n",
      "Epoch 59/300\n",
      "313/313 [==============================] - 27s 86ms/step - loss: 0.2956 - accuracy: 0.8948 - val_loss: 0.6043 - val_accuracy: 0.8250\n",
      "Epoch 60/300\n",
      "313/313 [==============================] - 27s 86ms/step - loss: 0.2870 - accuracy: 0.9000 - val_loss: 0.5644 - val_accuracy: 0.8273\n",
      "Epoch 61/300\n",
      "313/313 [==============================] - 27s 86ms/step - loss: 0.2848 - accuracy: 0.8997 - val_loss: 0.5761 - val_accuracy: 0.8303\n",
      "Epoch 62/300\n",
      "313/313 [==============================] - 27s 87ms/step - loss: 0.2867 - accuracy: 0.8980 - val_loss: 0.5721 - val_accuracy: 0.8290\n",
      "Epoch 63/300\n",
      "313/313 [==============================] - 26s 82ms/step - loss: 0.2722 - accuracy: 0.9028 - val_loss: 0.6375 - val_accuracy: 0.8176\n",
      "Epoch 64/300\n",
      "313/313 [==============================] - 26s 82ms/step - loss: 0.2696 - accuracy: 0.9060 - val_loss: 0.5433 - val_accuracy: 0.8345\n",
      "Epoch 65/300\n",
      "313/313 [==============================] - 27s 87ms/step - loss: 0.2660 - accuracy: 0.9072 - val_loss: 0.5949 - val_accuracy: 0.8259\n",
      "Epoch 66/300\n",
      "313/313 [==============================] - 27s 86ms/step - loss: 0.2576 - accuracy: 0.9095 - val_loss: 0.6131 - val_accuracy: 0.8253\n",
      "Epoch 67/300\n",
      "313/313 [==============================] - 26s 82ms/step - loss: 0.2599 - accuracy: 0.9086 - val_loss: 0.5537 - val_accuracy: 0.8333\n",
      "Epoch 68/300\n",
      "313/313 [==============================] - 26s 82ms/step - loss: 0.2501 - accuracy: 0.9128 - val_loss: 0.5884 - val_accuracy: 0.8325\n",
      "Epoch 69/300\n",
      "313/313 [==============================] - 27s 87ms/step - loss: 0.2440 - accuracy: 0.9143 - val_loss: 0.5832 - val_accuracy: 0.8345\n",
      "Epoch 70/300\n",
      "313/313 [==============================] - 26s 82ms/step - loss: 0.2486 - accuracy: 0.9112 - val_loss: 0.5760 - val_accuracy: 0.8328\n",
      "Epoch 71/300\n",
      "313/313 [==============================] - 27s 87ms/step - loss: 0.2362 - accuracy: 0.9158 - val_loss: 0.6042 - val_accuracy: 0.8345\n",
      "Epoch 72/300\n",
      "313/313 [==============================] - 26s 83ms/step - loss: 0.2320 - accuracy: 0.9191 - val_loss: 0.5646 - val_accuracy: 0.8351\n",
      "Epoch 73/300\n",
      "313/313 [==============================] - 26s 83ms/step - loss: 0.2305 - accuracy: 0.9182 - val_loss: 0.6443 - val_accuracy: 0.8238\n",
      "Epoch 74/300\n",
      "313/313 [==============================] - 26s 84ms/step - loss: 0.2273 - accuracy: 0.9202 - val_loss: 0.6458 - val_accuracy: 0.8199\n",
      "Epoch 75/300\n",
      "313/313 [==============================] - 27s 88ms/step - loss: 0.2192 - accuracy: 0.9234 - val_loss: 0.5839 - val_accuracy: 0.8352\n",
      "Epoch 76/300\n",
      "313/313 [==============================] - 28s 88ms/step - loss: 0.2189 - accuracy: 0.9227 - val_loss: 0.5834 - val_accuracy: 0.8376\n",
      "Epoch 77/300\n",
      "313/313 [==============================] - 27s 87ms/step - loss: 0.2174 - accuracy: 0.9234 - val_loss: 0.6379 - val_accuracy: 0.8232\n",
      "Epoch 78/300\n",
      "313/313 [==============================] - 27s 86ms/step - loss: 0.2133 - accuracy: 0.9252 - val_loss: 0.6137 - val_accuracy: 0.8302\n",
      "Epoch 79/300\n",
      "313/313 [==============================] - 27s 87ms/step - loss: 0.2098 - accuracy: 0.9269 - val_loss: 0.5780 - val_accuracy: 0.8366\n",
      "Epoch 80/300\n",
      "313/313 [==============================] - 27s 87ms/step - loss: 0.2016 - accuracy: 0.9291 - val_loss: 0.5801 - val_accuracy: 0.8413\n",
      "Epoch 81/300\n",
      "313/313 [==============================] - 26s 83ms/step - loss: 0.2029 - accuracy: 0.9281 - val_loss: 0.5920 - val_accuracy: 0.8414\n",
      "Epoch 82/300\n",
      "313/313 [==============================] - 26s 83ms/step - loss: 0.1970 - accuracy: 0.9305 - val_loss: 0.6474 - val_accuracy: 0.8287\n",
      "Epoch 83/300\n",
      "313/313 [==============================] - 27s 87ms/step - loss: 0.1980 - accuracy: 0.9316 - val_loss: 0.6498 - val_accuracy: 0.8298\n",
      "Epoch 84/300\n",
      "313/313 [==============================] - 26s 84ms/step - loss: 0.1991 - accuracy: 0.9300 - val_loss: 0.5547 - val_accuracy: 0.8449\n",
      "Epoch 85/300\n",
      "313/313 [==============================] - 27s 86ms/step - loss: 0.1949 - accuracy: 0.9309 - val_loss: 0.5878 - val_accuracy: 0.8385\n",
      "Epoch 86/300\n",
      "313/313 [==============================] - 28s 91ms/step - loss: 0.1944 - accuracy: 0.9301 - val_loss: 0.6306 - val_accuracy: 0.8322\n",
      "Epoch 87/300\n",
      "313/313 [==============================] - 27s 85ms/step - loss: 0.1857 - accuracy: 0.9348 - val_loss: 0.5580 - val_accuracy: 0.8490\n",
      "Epoch 88/300\n",
      "313/313 [==============================] - 26s 83ms/step - loss: 0.1828 - accuracy: 0.9363 - val_loss: 0.6467 - val_accuracy: 0.8241\n",
      "Epoch 89/300\n",
      "313/313 [==============================] - 26s 83ms/step - loss: 0.1820 - accuracy: 0.9359 - val_loss: 0.6417 - val_accuracy: 0.8347\n",
      "Epoch 90/300\n",
      "313/313 [==============================] - 26s 84ms/step - loss: 0.1815 - accuracy: 0.9367 - val_loss: 0.5480 - val_accuracy: 0.8512\n",
      "Epoch 91/300\n",
      "313/313 [==============================] - 27s 86ms/step - loss: 0.1740 - accuracy: 0.9402 - val_loss: 0.6223 - val_accuracy: 0.8321\n",
      "Epoch 92/300\n",
      "313/313 [==============================] - 27s 87ms/step - loss: 0.1752 - accuracy: 0.9382 - val_loss: 0.6188 - val_accuracy: 0.8374\n",
      "Epoch 93/300\n",
      "313/313 [==============================] - 27s 87ms/step - loss: 0.1725 - accuracy: 0.9384 - val_loss: 0.5392 - val_accuracy: 0.8533\n",
      "Epoch 94/300\n",
      "313/313 [==============================] - 26s 83ms/step - loss: 0.1686 - accuracy: 0.9409 - val_loss: 0.6276 - val_accuracy: 0.8382\n",
      "Epoch 95/300\n",
      "313/313 [==============================] - 27s 87ms/step - loss: 0.1642 - accuracy: 0.9420 - val_loss: 0.6074 - val_accuracy: 0.8398\n",
      "Epoch 96/300\n",
      "313/313 [==============================] - 27s 87ms/step - loss: 0.1678 - accuracy: 0.9415 - val_loss: 0.6120 - val_accuracy: 0.8431\n",
      "Epoch 97/300\n",
      "313/313 [==============================] - 26s 82ms/step - loss: 0.1668 - accuracy: 0.9417 - val_loss: 0.5881 - val_accuracy: 0.8421\n",
      "Epoch 98/300\n",
      "313/313 [==============================] - 27s 86ms/step - loss: 0.1626 - accuracy: 0.9428 - val_loss: 0.5929 - val_accuracy: 0.8434\n",
      "Epoch 99/300\n",
      "313/313 [==============================] - 27s 87ms/step - loss: 0.1527 - accuracy: 0.9466 - val_loss: 0.6046 - val_accuracy: 0.8429\n",
      "Epoch 100/300\n",
      "313/313 [==============================] - 26s 83ms/step - loss: 0.1552 - accuracy: 0.9451 - val_loss: 0.6842 - val_accuracy: 0.8293\n",
      "Epoch 101/300\n",
      "313/313 [==============================] - 27s 87ms/step - loss: 0.1494 - accuracy: 0.9465 - val_loss: 0.6061 - val_accuracy: 0.8453\n",
      "Epoch 102/300\n",
      "313/313 [==============================] - 27s 87ms/step - loss: 0.1540 - accuracy: 0.9461 - val_loss: 0.6093 - val_accuracy: 0.8443\n",
      "Epoch 103/300\n",
      "313/313 [==============================] - 27s 87ms/step - loss: 0.1464 - accuracy: 0.9495 - val_loss: 0.6012 - val_accuracy: 0.8425\n",
      "Epoch 104/300\n",
      "313/313 [==============================] - 27s 86ms/step - loss: 0.1485 - accuracy: 0.9467 - val_loss: 0.6159 - val_accuracy: 0.8469\n",
      "Epoch 105/300\n",
      "313/313 [==============================] - 27s 86ms/step - loss: 0.1520 - accuracy: 0.9475 - val_loss: 0.6324 - val_accuracy: 0.8395\n",
      "Epoch 106/300\n",
      "313/313 [==============================] - 27s 86ms/step - loss: 0.1415 - accuracy: 0.9502 - val_loss: 0.6471 - val_accuracy: 0.8399\n",
      "Epoch 107/300\n",
      "313/313 [==============================] - 27s 85ms/step - loss: 0.1384 - accuracy: 0.9514 - val_loss: 0.6174 - val_accuracy: 0.8508\n",
      "Epoch 108/300\n",
      "313/313 [==============================] - 27s 86ms/step - loss: 0.1446 - accuracy: 0.9505 - val_loss: 0.5938 - val_accuracy: 0.8474\n",
      "Epoch 109/300\n",
      "313/313 [==============================] - 26s 82ms/step - loss: 0.1343 - accuracy: 0.9542 - val_loss: 0.6382 - val_accuracy: 0.8436\n",
      "Epoch 110/300\n",
      "313/313 [==============================] - 26s 84ms/step - loss: 0.1365 - accuracy: 0.9507 - val_loss: 0.6085 - val_accuracy: 0.8455\n",
      "Epoch 111/300\n",
      "313/313 [==============================] - 26s 81ms/step - loss: 0.1330 - accuracy: 0.9531 - val_loss: 0.5971 - val_accuracy: 0.8471\n",
      "Epoch 112/300\n",
      "313/313 [==============================] - 25s 81ms/step - loss: 0.1365 - accuracy: 0.9532 - val_loss: 0.5966 - val_accuracy: 0.8492\n",
      "Epoch 113/300\n",
      "313/313 [==============================] - 27s 85ms/step - loss: 0.1316 - accuracy: 0.9544 - val_loss: 0.6418 - val_accuracy: 0.8405\n",
      "Epoch 114/300\n",
      "313/313 [==============================] - 25s 81ms/step - loss: 0.1359 - accuracy: 0.9526 - val_loss: 0.7462 - val_accuracy: 0.8275\n",
      "Epoch 115/300\n",
      "313/313 [==============================] - 25s 81ms/step - loss: 0.1285 - accuracy: 0.9557 - val_loss: 0.6415 - val_accuracy: 0.8365\n",
      "Epoch 116/300\n",
      "313/313 [==============================] - 25s 81ms/step - loss: 0.1282 - accuracy: 0.9556 - val_loss: 0.6628 - val_accuracy: 0.8363\n",
      "Epoch 117/300\n",
      "313/313 [==============================] - 26s 83ms/step - loss: 0.1270 - accuracy: 0.9568 - val_loss: 0.5636 - val_accuracy: 0.8520\n",
      "Epoch 118/300\n",
      "313/313 [==============================] - 25s 81ms/step - loss: 0.1261 - accuracy: 0.9563 - val_loss: 0.6381 - val_accuracy: 0.8408\n",
      "Epoch 119/300\n",
      "313/313 [==============================] - 27s 85ms/step - loss: 0.1247 - accuracy: 0.9561 - val_loss: 0.6853 - val_accuracy: 0.8426\n",
      "Epoch 120/300\n",
      "313/313 [==============================] - 25s 81ms/step - loss: 0.1222 - accuracy: 0.9573 - val_loss: 0.6123 - val_accuracy: 0.8488\n",
      "Epoch 121/300\n",
      "313/313 [==============================] - 26s 84ms/step - loss: 0.1204 - accuracy: 0.9578 - val_loss: 0.6352 - val_accuracy: 0.8450\n",
      "Epoch 122/300\n",
      "313/313 [==============================] - 26s 84ms/step - loss: 0.1189 - accuracy: 0.9585 - val_loss: 0.6456 - val_accuracy: 0.8449\n",
      "Epoch 123/300\n",
      "313/313 [==============================] - ETA: 0s - loss: 0.1196 - accuracy: 0.9581Restoring model weights from the end of the best epoch: 93.\n",
      "313/313 [==============================] - 27s 85ms/step - loss: 0.1196 - accuracy: 0.9581 - val_loss: 0.6337 - val_accuracy: 0.8428\n",
      "Epoch 123: early stopping\n"
     ]
    }
   ],
   "source": [
    "# Train the model\n",
    "from tensorflow.keras.callbacks import EarlyStopping\n",
    "\n",
    "earlystopper = EarlyStopping(monitor='val_accuracy', patience=30, verbose=1, mode='auto',restore_best_weights=True)\n",
    "# history = model.fit(X_train, Y_train, batch_size=128, epochs=10, validation_split=0.2, callbacks=[earlystopper])\n",
    "# train the model with the data generator\n",
    "history = model.fit(datagen.flow(X_train[:-10000], Y_train[:-10000], batch_size=128),\n",
    "                    epochs=300,\n",
    "                    validation_data=(X_train[-10000:],Y_train[-10000:]),\n",
    "                    verbose=1, callbacks=[earlystopper])\n",
    "\n",
    "\n",
    "# history = model.fit(datagen.flow(X_train[:-10000], Y_train[:-10000], batch_size=128), epochs=100, validation_data=(X_train[-10000:],Y_train[-10000:]), verbose=1, callbacks=[earlystopper])"
   ]
  },
  {
   "cell_type": "code",
   "execution_count": 10,
   "metadata": {
    "colab": {
     "base_uri": "https://localhost:8080/"
    },
    "id": "1c7X04RQrNGg",
    "outputId": "e6586901-dbba-447a-d3b9-ebc0d7db3119"
   },
   "outputs": [
    {
     "name": "stdout",
     "output_type": "stream",
     "text": [
      "79/79 [==============================] - 1s 11ms/step - loss: 0.5737 - accuracy: 0.8478\n",
      "Test loss:0.5737\n",
      "Test accuracy:0.8478\n"
     ]
    }
   ],
   "source": [
    "# evaluate\n",
    "test_loss, test_accuracy = model.evaluate(X_test, Y_test, batch_size=128)\n",
    "print('Test loss:%.4f'%(test_loss))\n",
    "print('Test accuracy:%.4f'%(test_accuracy))"
   ]
  },
  {
   "cell_type": "code",
   "execution_count": 11,
   "metadata": {
    "colab": {
     "base_uri": "https://localhost:8080/",
     "height": 449
    },
    "id": "GmlcxXTdrOH3",
    "outputId": "b1fe3380-a11a-4602-e160-fe53582eff1c"
   },
   "outputs": [
    {
     "data": {
      "image/png": "[encoded data removed]",
      "text/plain": [
       "<Figure size 640x480 with 2 Axes>"
      ]
     },
     "metadata": {},
     "output_type": "display_data"
    }
   ],
   "source": [
    "fig, loss_ax = plt.subplots()\n",
    "acc_ax = loss_ax.twinx()\n",
    "\n",
    "loss_ax.plot(history.history['loss'], 'y', label='train loss')\n",
    "loss_ax.plot(history.history['val_loss'], 'r', label='val loss')\n",
    "\n",
    "acc_ax.plot(history.history['accuracy'], 'b', label='train acc')\n",
    "acc_ax.plot(history.history['val_accuracy'], 'g', label='val acc')\n",
    "\n",
    "loss_ax.set_xlabel('epoch')\n",
    "loss_ax.set_ylabel('loss')\n",
    "acc_ax.set_ylabel('accuracy')\n",
    "\n",
    "loss_ax.legend(loc='upper left')\n",
    "acc_ax.legend(loc='lower left')\n",
    "\n",
    "plt.show()"
   ]
  }
 ],
 "metadata": {
  "accelerator": "GPU",
  "colab": {
   "provenance": []
  },
  "gpuClass": "standard",
  "kernelspec": {
   "display_name": "Python 3 (ipykernel)",
   "language": "python",
   "name": "python3"
  },
  "language_info": {
   "codemirror_mode": {
    "name": "ipython",
    "version": 3
   },
   "file_extension": ".py",
   "mimetype": "text/x-python",
   "name": "python",
   "nbconvert_exporter": "python",
   "pygments_lexer": "ipython3",
   "version": "3.9.13"
  }
 },
 "nbformat": 4,
 "nbformat_minor": 1
}
